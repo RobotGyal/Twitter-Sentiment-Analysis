{
 "cells": [
  {
   "cell_type": "markdown",
   "id": "75cdb056-4300-473b-904e-0a8ae007b0e7",
   "metadata": {},
   "source": [
    "# Twitter Sentiment Analysis"
   ]
  },
  {
   "cell_type": "code",
   "execution_count": null,
   "id": "24e97d42-9e23-47dd-87b8-8eb7f6ef584b",
   "metadata": {},
   "outputs": [],
   "source": [
    "# API Key = Kkl2nOqbLofsWeKJvPb68hEVt\n",
    "# API Secret = aH3mrlTjtODWiNfBpHQcMXiutFcVRVsKopDwjjTtUDldELZt3a\n",
    "\n",
    "# Bearer = AAAAAAAAAAAAAAAAAAAAAOWVwwEAAAAAZ1qWD%2BRDSsXXq4kzU%2FbwRLVBWr0%3D2s7KfEUnCp6pi5wg1O2uSKh3dIs6tiqsctljSQp5ypF8P5pDDQ\n",
    "\n",
    "# Access Token = 1054416476-LimCWQaqneVOcsqOG1dBtFgWHnqrpWM99QmJSPM\n",
    "# Access Token Secret = MR6jNw1R9t0XzeuLVRvmo0ZEHPiLeOqWQGWXqXEADr83q\n",
    "\n",
    "# Client ID = ME50MU1XVzlYaURwTVZncDZFS3g6MTpjaQ\n",
    "# Client Secret = bV-cdSMl3SkfiRLB3v-9vQSRQLEl-o5k9DIM4zWzZS7OUquBLD"
   ]
  },
  {
   "cell_type": "code",
   "execution_count": 2,
   "id": "185a75f1-a5cd-48b6-b6d0-d2db1fd65394",
   "metadata": {},
   "outputs": [
    {
     "name": "stdout",
     "output_type": "stream",
     "text": [
      "Collecting tweepy==4.9.0\n",
      "  Downloading tweepy-4.9.0-py3-none-any.whl.metadata (3.7 kB)\n",
      "Requirement already satisfied: oauthlib<4,>=3.2.0 in /Library/Frameworks/Python.framework/Versions/3.11/lib/python3.11/site-packages (from tweepy==4.9.0) (3.2.2)\n",
      "Requirement already satisfied: requests<3,>=2.27.0 in /Library/Frameworks/Python.framework/Versions/3.11/lib/python3.11/site-packages (from tweepy==4.9.0) (2.31.0)\n",
      "Requirement already satisfied: requests-oauthlib<2,>=1.2.0 in /Library/Frameworks/Python.framework/Versions/3.11/lib/python3.11/site-packages (from tweepy==4.9.0) (1.3.1)\n",
      "Requirement already satisfied: charset-normalizer<4,>=2 in /Library/Frameworks/Python.framework/Versions/3.11/lib/python3.11/site-packages (from requests<3,>=2.27.0->tweepy==4.9.0) (3.2.0)\n",
      "Requirement already satisfied: idna<4,>=2.5 in /Library/Frameworks/Python.framework/Versions/3.11/lib/python3.11/site-packages (from requests<3,>=2.27.0->tweepy==4.9.0) (3.4)\n",
      "Requirement already satisfied: urllib3<3,>=1.21.1 in /Library/Frameworks/Python.framework/Versions/3.11/lib/python3.11/site-packages (from requests<3,>=2.27.0->tweepy==4.9.0) (2.0.4)\n",
      "Requirement already satisfied: certifi>=2017.4.17 in /Library/Frameworks/Python.framework/Versions/3.11/lib/python3.11/site-packages (from requests<3,>=2.27.0->tweepy==4.9.0) (2024.8.30)\n",
      "Downloading tweepy-4.9.0-py3-none-any.whl (77 kB)\n",
      "\u001b[2K   \u001b[38;2;114;156;31m━━━━━━━━━━━━━━━━━━━━━━━━━━━━━━━━━━━━━━━━\u001b[0m \u001b[32m78.0/78.0 kB\u001b[0m \u001b[31m1.4 MB/s\u001b[0m eta \u001b[36m0:00:00\u001b[0m[31m3.3 MB/s\u001b[0m eta \u001b[36m0:00:01\u001b[0m\n",
      "\u001b[?25hInstalling collected packages: tweepy\n",
      "Successfully installed tweepy-4.9.0\n",
      "\n",
      "\u001b[1m[\u001b[0m\u001b[34;49mnotice\u001b[0m\u001b[1;39;49m]\u001b[0m\u001b[39;49m A new release of pip is available: \u001b[0m\u001b[31;49m23.3.1\u001b[0m\u001b[39;49m -> \u001b[0m\u001b[32;49m24.3.1\u001b[0m\n",
      "\u001b[1m[\u001b[0m\u001b[34;49mnotice\u001b[0m\u001b[1;39;49m]\u001b[0m\u001b[39;49m To update, run: \u001b[0m\u001b[32;49mpip install --upgrade pip\u001b[0m\n"
     ]
    }
   ],
   "source": [
    "!pip install tweepy==4.9.0\n",
    "import tweepy"
   ]
  },
  {
   "cell_type": "code",
   "execution_count": 5,
   "id": "decb34d8-2d14-461d-a8a6-20bcd5670619",
   "metadata": {},
   "outputs": [],
   "source": [
    "# Authenticate with Twitter OAuth 2.0 Bearer Token (Application-only)\n",
    "client = tweepy.Client(bearer_token = 'AAAAAAAAAAAAAAAAAAAAAOWVwwEAAAAAZ1qWD%2BRDSsXXq4kzU%2FbwRLVBWr0%3D2s7KfEUnCp6pi5wg1O2uSKh3dIs6tiqsctljSQp5ypF8P5pDDQ')"
   ]
  },
  {
   "cell_type": "code",
   "execution_count": 6,
   "id": "a419ed94-e5d2-4ad9-9cae-407418b99669",
   "metadata": {},
   "outputs": [],
   "source": [
    "# Pull tweets from twitter\n",
    "\n",
    "query = '#chatgpt -is:retweet lang:en'\n",
    "tweets = client.search_recent_tweets(query=query, tweet_fields=['context_annotations', 'created_at'], max_results=10)\n",
    "\n",
    "# Get tweets that contain the hashtag #TypeKeywordHere\n",
    "# -is:retweet means I don't want retweets\n",
    "# lang:en is asking for the tweets to be in english"
   ]
  },
  {
   "cell_type": "code",
   "execution_count": 7,
   "id": "2b1e3b36-3567-40b0-9fdb-25050f58f19b",
   "metadata": {},
   "outputs": [
    {
     "name": "stdout",
     "output_type": "stream",
     "text": [
      "\n",
      "**Tweet Text**\n",
      " ALLAH IS NOT GOD ! #abbéguypagès https://t.co/filMUTxtvW via @YouTube @abbepages #allah #islam #God #Catholic #english #london #NewYork #US #chatgpt\n",
      "\n",
      "**Tweet Text**\n",
      " Fresh #ChatGPT vision on @MinaProtocol and community (3 images) ❤️\n",
      "$Mina #AI #RWA #zk #ETH https://t.co/mBGirVzJ2m\n",
      "\n",
      "**Tweet Text**\n",
      " 👀Starting with AI ? Here are the best resources to create your prompts !\n",
      "https://t.co/xmfDmpSY3G\n",
      "\n",
      "#ChatGPT #promptengineering #openai #ArtificialInteligence\n",
      "\n",
      "**Tweet Text**\n",
      " If you haven’t used ChatGPT for a personal astrology reading yet, you’re missing out. 2025 is about to hit different.\n",
      "\n",
      "#astrology  #NatalChart #ChatGPT\n",
      "\n",
      "**Tweet Text**\n",
      " 👀Starting with AI ? Here are the best resources to create your prompts !\n",
      "https://t.co/jf4W8yjc7n\n",
      "\n",
      "#ChatGPT #promptengineering #openai #ArtificialInteligence\n",
      "\n",
      "**Tweet Text**\n",
      " 👀Starting with AI ? Here are the best resources to create your prompts !\n",
      "https://t.co/hl9Z4KVGWm\n",
      "\n",
      "#ChatGPT #promptengineering #openai #ArtificialInteligence\n",
      "\n",
      "**Tweet Text**\n",
      " ✨ Just Launched Charm GPT — Simplify text, adjust tone, summarize, and more—all in one free Chrome extension! Power up your ChatGPT experience to the next level!\n",
      "\n",
      "https://t.co/SRMuff4xLA\n",
      "\n",
      "#ChatGPT #ChromeExtension #AItools https://t.co/x52Xyypq6t\n",
      "\n",
      "**Tweet Text**\n",
      " FREE CREDITS! Come use #AI to bring your wildest imaginations to life! Check out our community, and let your mind run wild! https://t.co/UmSmw0SdYq #art #artwork #prints #wallart #dalle #openai #generative #chatgpt #printyourmind\n",
      "\n",
      "**Tweet Text**\n",
      " 👀Starting with AI ? Here are the best resources to create your prompts !\n",
      "https://t.co/j3YWQ8dcQ3\n",
      "\n",
      "#ChatGPT #promptengineering  #openai #ArtificialInteligence\n",
      "\n",
      "**Tweet Text**\n",
      " Deep Learning: Peering into the Black Box: #quantumcomputing #ai #chatgpt #claudeai https://t.co/2BYC1zz3ca\n"
     ]
    }
   ],
   "source": [
    "for tweet in tweets.data:\n",
    "    print('\\n**Tweet Text**\\n',tweet.text)"
   ]
  },
  {
   "cell_type": "code",
   "execution_count": null,
   "id": "1c6e3b45-0cf0-4ed8-8692-963e2aebd468",
   "metadata": {},
   "outputs": [],
   "source": []
  }
 ],
 "metadata": {
  "kernelspec": {
   "display_name": "Python 3 (ipykernel)",
   "language": "python",
   "name": "python3"
  },
  "language_info": {
   "codemirror_mode": {
    "name": "ipython",
    "version": 3
   },
   "file_extension": ".py",
   "mimetype": "text/x-python",
   "name": "python",
   "nbconvert_exporter": "python",
   "pygments_lexer": "ipython3",
   "version": "3.11.4"
  }
 },
 "nbformat": 4,
 "nbformat_minor": 5
}
